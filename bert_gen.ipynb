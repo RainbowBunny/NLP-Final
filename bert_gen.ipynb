{
 "cells": [
  {
   "cell_type": "code",
   "execution_count": 2,
   "metadata": {},
   "outputs": [],
   "source": [
    "from transformers import BertTokenizer\n",
    "import torch\n",
    "import random"
   ]
  },
  {
   "cell_type": "code",
   "execution_count": 3,
   "metadata": {},
   "outputs": [],
   "source": [
    "tokenizer = BertTokenizer.from_pretrained(\"bert-base-uncased\")\n",
    "\n",
    "# Step 1: Tokenization\n",
    "def tokenize_texts(texts):\n",
    "    tokenized = [tokenizer(text, max_length=128, truncation=True, padding=\"max_length\", return_tensors=\"pt\") for text in texts]\n",
    "    return tokenized\n",
    "\n",
    "# Step 2: Create Masked Language Modeling (MLM) labels\n",
    "def create_mlm_labels(input_ids, mask_prob=0.15):\n",
    "    labels = input_ids.clone()\n",
    "    rand = torch.rand(input_ids.shape)\n",
    "    mask_arr = (rand < mask_prob) & (input_ids != tokenizer.pad_token_id) & (input_ids != tokenizer.cls_token_id) & (input_ids != tokenizer.sep_token_id)\n",
    "    input_ids[mask_arr] = tokenizer.mask_token_id\n",
    "    return input_ids, labels"
   ]
  },
  {
   "cell_type": "code",
   "execution_count": 4,
   "metadata": {},
   "outputs": [
    {
     "name": "stdout",
     "output_type": "stream",
     "text": [
      "400000\n"
     ]
    }
   ],
   "source": [
    "data = open(\"books_large_p1.txt\", \"r\").readlines()[:400000]\n",
    "print(len(data))"
   ]
  },
  {
   "cell_type": "code",
   "execution_count": 5,
   "metadata": {},
   "outputs": [],
   "source": [
    "text = tokenize_texts(data)"
   ]
  },
  {
   "cell_type": "code",
   "execution_count": 17,
   "metadata": {},
   "outputs": [
    {
     "name": "stdout",
     "output_type": "stream",
     "text": [
      "400000\n"
     ]
    }
   ],
   "source": [
    "dt = [e['input_ids'] for e in text]\n",
    "token_id = [e['token_type_ids'] for e in text]\n",
    "mask = [e['attention_mask'] for e in text]\n",
    "print(len(dt))"
   ]
  },
  {
   "cell_type": "code",
   "execution_count": 18,
   "metadata": {},
   "outputs": [],
   "source": [
    "torch_id = torch.concat(dt)\n",
    "torch_token_id = torch.concat(token_id)\n",
    "torch_mask = torch.concat(mask)"
   ]
  },
  {
   "cell_type": "code",
   "execution_count": 19,
   "metadata": {},
   "outputs": [],
   "source": [
    "inputs = []\n",
    "labels = []\n",
    "\n",
    "for i in dt:\n",
    "    input, label = create_mlm_labels(i)\n",
    "    inputs.append(input)\n",
    "    labels.append(label)"
   ]
  },
  {
   "cell_type": "code",
   "execution_count": 20,
   "metadata": {},
   "outputs": [],
   "source": [
    "torch.save({\n",
    "    \"inputs\":  torch.concat(inputs),\n",
    "    \"token_id\": torch_token_id,\n",
    "    \"attention_mask\": torch_mask,\n",
    "    \"targets\":  torch.concat(labels)\n",
    "}, \"masklm_input.pt\")"
   ]
  },
  {
   "cell_type": "code",
   "execution_count": 21,
   "metadata": {},
   "outputs": [
    {
     "name": "stderr",
     "output_type": "stream",
     "text": [
      "/tmp/ipykernel_50206/1156871332.py:1: FutureWarning: You are using `torch.load` with `weights_only=False` (the current default value), which uses the default pickle module implicitly. It is possible to construct malicious pickle data which will execute arbitrary code during unpickling (See https://github.com/pytorch/pytorch/blob/main/SECURITY.md#untrusted-models for more details). In a future release, the default value for `weights_only` will be flipped to `True`. This limits the functions that could be executed during unpickling. Arbitrary objects will no longer be allowed to be loaded via this mode unless they are explicitly allowlisted by the user via `torch.serialization.add_safe_globals`. We recommend you start setting `weights_only=True` for any use case where you don't have full control of the loaded file. Please open an issue on GitHub for any issues related to this experimental feature.\n",
      "  ds = torch.load(\"masklm_input.pt\")\n"
     ]
    }
   ],
   "source": [
    "ds = torch.load(\"masklm_input.pt\")\n",
    "inputs = ds[\"inputs\"]\n",
    "token_id = ds[\"token_id\"]\n",
    "attention_mask = ds[\"attention_mask\"]\n",
    "targets = ds[\"targets\"]"
   ]
  },
  {
   "cell_type": "code",
   "execution_count": null,
   "metadata": {},
   "outputs": [],
   "source": [
    "from bert.bertDataset import MLMBERTDataset\n",
    "from torch.utils.data import DataLoader\n",
    "from bert.bert import PretrainingBERT\n",
    "from bert.bert import BERT\n",
    "from transformers import BertTokenizer\n",
    "from utils.trainer import Trainer, CheckPointArgs, TrainArgs\n",
    "\n",
    "train_indices = range(0, 320000)\n",
    "valid_indices = range(320000, 400000)\n",
    "\n",
    "train_dataset = MLMBERTDataset(inputs, token_id, attention_mask, targets, train_indices)\n",
    "valid_dataset = MLMBERTDataset(inputs, token_id, attention_mask, targets, valid_indices)\n"
   ]
  },
  {
   "cell_type": "code",
   "execution_count": 27,
   "metadata": {},
   "outputs": [],
   "source": [
    "vocab_size = 30522\n",
    "embed_size = 256\n",
    "num_heads = 4\n",
    "num_layers = 4\n",
    "max_position_embeddings = 256\n",
    "forward_expansion = 4\n",
    "dropout = 0.1\n",
    "type_vocab_size = 2\n",
    "BATCH_SIZE = 16\n",
    "model_name = \"pretrain_bert\"\n",
    "experiment_name = \"bookcropus\"\n",
    "\n",
    "bert_model = BERT(vocab_size, embed_size, num_heads, num_layers, max_position_embeddings, forward_expansion, dropout, type_vocab_size)\n",
    "pretraining_model = PretrainingBERT(bert_model, vocab_size)"
   ]
  },
  {
   "cell_type": "code",
   "execution_count": 28,
   "metadata": {},
   "outputs": [
    {
     "name": "stderr",
     "output_type": "stream",
     "text": [
      "INFO:root:Epoch 1: Start at 2024-11-30 20:19:48.714158\n"
     ]
    },
    {
     "ename": "",
     "evalue": "",
     "output_type": "error",
     "traceback": [
      "\u001b[1;31mThe Kernel crashed while executing code in the current cell or a previous cell. \n",
      "\u001b[1;31mPlease review the code in the cell(s) to identify a possible cause of the failure. \n",
      "\u001b[1;31mClick <a href='https://aka.ms/vscodeJupyterKernelCrash'>here</a> for more info. \n",
      "\u001b[1;31mView Jupyter <a href='command:jupyter.viewOutput'>log</a> for further details."
     ]
    }
   ],
   "source": [
    "training_args = TrainArgs(num_epochs = 100, batch_size = BATCH_SIZE, learning_rate = 1e-4)\n",
    "checkpoint_args = CheckPointArgs(model_name, experiment_name)\n",
    "\n",
    "trainer = Trainer(pretraining_model, train_dataset, valid_dataset, checkpoint_args, training_args)\n",
    "\n",
    "trainer.train()"
   ]
  }
 ],
 "metadata": {
  "kernelspec": {
   "display_name": "Python 3",
   "language": "python",
   "name": "python3"
  },
  "language_info": {
   "codemirror_mode": {
    "name": "ipython",
    "version": 3
   },
   "file_extension": ".py",
   "mimetype": "text/x-python",
   "name": "python",
   "nbconvert_exporter": "python",
   "pygments_lexer": "ipython3",
   "version": "3.11.9"
  }
 },
 "nbformat": 4,
 "nbformat_minor": 2
}
